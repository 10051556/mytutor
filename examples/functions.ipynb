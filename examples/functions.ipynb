{
 "cells": [
  {
   "cell_type": "code",
   "execution_count": 1,
   "metadata": {},
   "outputs": [],
   "source": [
    "%load_ext mytutor"
   ]
  },
  {
   "cell_type": "code",
   "execution_count": 2,
   "metadata": {},
   "outputs": [
    {
     "data": {
      "text/html": [
       "\n",
       "        <iframe\n",
       "            width=\"1100\"\n",
       "            height=\"400\"\n",
       "            src=\"https://mytutor.cs.cityu.edu.hk/opt3/cs1302visualize.html#mode=display&py=py3anaconda&code=import%20numpy%20as%20np%0Anp3%20%3D%20np.array%28%5B%5B1%2C%202%5D%2C%20%5B3%2C%204%5D%5D%29%0Anp4%20%3D%20np.array%28%5B%5B5%2C%206%5D%2C%20%5B7%2C%208%5D%5D%29%0Anp5%20%3D%20np3%20%2B%20np4%0A\"\n",
       "            frameborder=\"0\"\n",
       "            allowfullscreen\n",
       "            \n",
       "        ></iframe>\n",
       "        "
      ],
      "text/plain": [
       "<IPython.lib.display.IFrame at 0x1081c2970>"
      ]
     },
     "metadata": {},
     "output_type": "display_data"
    }
   ],
   "source": [
    "%%mytutor -h 400 -lang py3anaconda\n",
    "import numpy as np\n",
    "np3 = np.array([[1, 2], [3, 4]])\n",
    "np4 = np.array([[5, 6], [7, 8]])\n",
    "np5 = np3 + np4"
   ]
  },
  {
   "cell_type": "markdown",
   "metadata": {},
   "source": []
  },
  {
   "cell_type": "code",
   "execution_count": 3,
   "metadata": {},
   "outputs": [
    {
     "data": {
      "text/html": [
       "\n",
       "        <iframe\n",
       "            width=\"1100\"\n",
       "            height=\"700\"\n",
       "            src=\"https://mytutor.cs.cityu.edu.hk/opt3/cs1302visualize.html#mode=display&py=3&code=def%20bar%28one%2C%20two%3D10%2C%20%2A%2Akwargs%29%3A%0A%20%20%20%20scale%20%3D%20kwargs.get%28%27scale%27%2C%201%29%0A%20%20%20%20ret%20%3D%20%5B%5D%0A%20%20%20%20for%20val%20in%20one%3A%0A%20%20%20%20%20%20%20%20ret.append%28scale%20%2A%20%28val%20%2B%20two%29%29%0A%20%20%20%20return%20ret%0A%0A%0Aans%20%3D%20bar%28%5B1%2C%202%2C%203%5D%2C%20scale%3D0.5%29%0A\"\n",
       "            frameborder=\"0\"\n",
       "            allowfullscreen\n",
       "            \n",
       "        ></iframe>\n",
       "        "
      ],
      "text/plain": [
       "<IPython.lib.display.IFrame at 0x108176d60>"
      ]
     },
     "metadata": {},
     "output_type": "display_data"
    }
   ],
   "source": [
    "%%mytutor -r\n",
    "def bar(one, two=10, **kwargs):\n",
    "    scale = kwargs.get('scale', 1)\n",
    "    ret = []\n",
    "    for val in one:\n",
    "        ret.append(scale * (val + two))\n",
    "    return ret\n",
    "\n",
    "\n",
    "ans = bar([1, 2, 3], scale=0.5)"
   ]
  }
 ],
 "metadata": {
  "anaconda-cloud": {},
  "celltoolbar": "Visualize",
  "kernelspec": {
   "display_name": "Python 3.9.13 64-bit",
   "language": "python",
   "name": "python3"
  },
  "language_info": {
   "codemirror_mode": {
    "name": "ipython",
    "version": 3
   },
   "file_extension": ".py",
   "mimetype": "text/x-python",
   "name": "python",
   "nbconvert_exporter": "python",
   "pygments_lexer": "ipython3",
   "version": "3.9.13"
  },
  "vscode": {
   "interpreter": {
    "hash": "b0fa6594d8f4cbf19f97940f81e996739fb7646882a419484c72d19e05852a7e"
   }
  }
 },
 "nbformat": 4,
 "nbformat_minor": 1
}
